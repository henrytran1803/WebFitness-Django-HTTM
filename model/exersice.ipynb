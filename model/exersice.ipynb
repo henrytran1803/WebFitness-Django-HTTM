{
 "cells": [
  {
   "cell_type": "code",
   "execution_count": 31,
   "id": "0259bea8-b997-45e8-8476-42c332b6a8e0",
   "metadata": {},
   "outputs": [],
   "source": [
    "import pandas as pd\n",
    "import numpy as np"
   ]
  },
  {
   "cell_type": "code",
   "execution_count": 32,
   "id": "32129d4c-0f93-4a61-adbb-a48eed1a4b4f",
   "metadata": {},
   "outputs": [],
   "source": [
    "df = pd.read_csv('exercise.csv', low_memory=False)"
   ]
  },
  {
   "cell_type": "code",
   "execution_count": 33,
   "id": "7891efc9-8aa4-483c-9f25-9d5a7a7d2836",
   "metadata": {},
   "outputs": [],
   "source": [
    "exercise_labels = []\n",
    "\n",
    "# Duyệt qua từng hàng trong DataFrame và tạo nhãn kiểu số\n",
    "for index, row in df.iterrows():\n",
    "    exercise_type = row['ExerciseType']\n",
    "    exercise_difficulty = row['DifficultyLevel']\n",
    "    \n",
    "    # Ánh xạ type và difficulty thành các giá trị kiểu số từ 1 đến 9\n",
    "    label = int((exercise_type - 1) * 3 + exercise_difficulty)\n",
    "    exercise_labels.append(label)\n",
    "\n",
    "# Suy ngược type và difficulty từ label\n",
    "# exercise_type = (label - 1) // 3 + 1\n",
    "# exercise_difficulty = (label - 1) % 3 + 1"
   ]
  },
  {
   "cell_type": "code",
   "execution_count": 34,
   "id": "2e4f1dbc-9a6e-4767-baab-ecf1d05d92db",
   "metadata": {},
   "outputs": [],
   "source": [
    "df['label'] = exercise_labels"
   ]
  },
  {
   "cell_type": "code",
   "execution_count": 35,
   "id": "00b0167a-b456-4897-9865-d847d8c9ea65",
   "metadata": {},
   "outputs": [
    {
     "data": {
      "text/html": [
       "<div>\n",
       "<style scoped>\n",
       "    .dataframe tbody tr th:only-of-type {\n",
       "        vertical-align: middle;\n",
       "    }\n",
       "\n",
       "    .dataframe tbody tr th {\n",
       "        vertical-align: top;\n",
       "    }\n",
       "\n",
       "    .dataframe thead th {\n",
       "        text-align: right;\n",
       "    }\n",
       "</style>\n",
       "<table border=\"1\" class=\"dataframe\">\n",
       "  <thead>\n",
       "    <tr style=\"text-align: right;\">\n",
       "      <th></th>\n",
       "      <th>BodyFatPercentage</th>\n",
       "      <th>BMI</th>\n",
       "      <th>DifficultyLevel</th>\n",
       "      <th>ExerciseType</th>\n",
       "      <th>Weight</th>\n",
       "      <th>Height</th>\n",
       "      <th>TDEE</th>\n",
       "      <th>label</th>\n",
       "    </tr>\n",
       "  </thead>\n",
       "  <tbody>\n",
       "    <tr>\n",
       "      <th>0</th>\n",
       "      <td>34.175859</td>\n",
       "      <td>43.004913</td>\n",
       "      <td>1</td>\n",
       "      <td>1</td>\n",
       "      <td>99.525640</td>\n",
       "      <td>188.490363</td>\n",
       "      <td>2037.861846</td>\n",
       "      <td>1</td>\n",
       "    </tr>\n",
       "    <tr>\n",
       "      <th>1</th>\n",
       "      <td>23.867976</td>\n",
       "      <td>6.857392</td>\n",
       "      <td>2</td>\n",
       "      <td>2</td>\n",
       "      <td>57.671151</td>\n",
       "      <td>153.756741</td>\n",
       "      <td>1430.794645</td>\n",
       "      <td>5</td>\n",
       "    </tr>\n",
       "    <tr>\n",
       "      <th>2</th>\n",
       "      <td>45.521355</td>\n",
       "      <td>31.618442</td>\n",
       "      <td>3</td>\n",
       "      <td>1</td>\n",
       "      <td>86.505216</td>\n",
       "      <td>172.921975</td>\n",
       "      <td>1811.584473</td>\n",
       "      <td>3</td>\n",
       "    </tr>\n",
       "    <tr>\n",
       "      <th>3</th>\n",
       "      <td>15.759591</td>\n",
       "      <td>40.841293</td>\n",
       "      <td>1</td>\n",
       "      <td>3</td>\n",
       "      <td>95.412002</td>\n",
       "      <td>100.791129</td>\n",
       "      <td>1441.913398</td>\n",
       "      <td>7</td>\n",
       "    </tr>\n",
       "    <tr>\n",
       "      <th>4</th>\n",
       "      <td>21.549028</td>\n",
       "      <td>48.150677</td>\n",
       "      <td>1</td>\n",
       "      <td>3</td>\n",
       "      <td>32.980361</td>\n",
       "      <td>126.497713</td>\n",
       "      <td>973.302434</td>\n",
       "      <td>7</td>\n",
       "    </tr>\n",
       "    <tr>\n",
       "      <th>...</th>\n",
       "      <td>...</td>\n",
       "      <td>...</td>\n",
       "      <td>...</td>\n",
       "      <td>...</td>\n",
       "      <td>...</td>\n",
       "      <td>...</td>\n",
       "      <td>...</td>\n",
       "      <td>...</td>\n",
       "    </tr>\n",
       "    <tr>\n",
       "      <th>4995</th>\n",
       "      <td>6.235790</td>\n",
       "      <td>11.982209</td>\n",
       "      <td>2</td>\n",
       "      <td>2</td>\n",
       "      <td>32.017780</td>\n",
       "      <td>147.290562</td>\n",
       "      <td>1103.863029</td>\n",
       "      <td>5</td>\n",
       "    </tr>\n",
       "    <tr>\n",
       "      <th>4996</th>\n",
       "      <td>22.050854</td>\n",
       "      <td>43.910584</td>\n",
       "      <td>1</td>\n",
       "      <td>3</td>\n",
       "      <td>49.729389</td>\n",
       "      <td>114.558121</td>\n",
       "      <td>1067.606768</td>\n",
       "      <td>7</td>\n",
       "    </tr>\n",
       "    <tr>\n",
       "      <th>4997</th>\n",
       "      <td>16.342209</td>\n",
       "      <td>17.543850</td>\n",
       "      <td>2</td>\n",
       "      <td>2</td>\n",
       "      <td>46.079741</td>\n",
       "      <td>141.988434</td>\n",
       "      <td>1210.656433</td>\n",
       "      <td>5</td>\n",
       "    </tr>\n",
       "    <tr>\n",
       "      <th>4998</th>\n",
       "      <td>32.630619</td>\n",
       "      <td>41.057386</td>\n",
       "      <td>3</td>\n",
       "      <td>1</td>\n",
       "      <td>31.270325</td>\n",
       "      <td>184.401221</td>\n",
       "      <td>1319.892368</td>\n",
       "      <td>3</td>\n",
       "    </tr>\n",
       "    <tr>\n",
       "      <th>4999</th>\n",
       "      <td>14.741548</td>\n",
       "      <td>15.114604</td>\n",
       "      <td>2</td>\n",
       "      <td>2</td>\n",
       "      <td>80.264044</td>\n",
       "      <td>149.766016</td>\n",
       "      <td>1615.188438</td>\n",
       "      <td>5</td>\n",
       "    </tr>\n",
       "  </tbody>\n",
       "</table>\n",
       "<p>5000 rows × 8 columns</p>\n",
       "</div>"
      ],
      "text/plain": [
       "      BodyFatPercentage        BMI  DifficultyLevel  ExerciseType     Weight  \\\n",
       "0             34.175859  43.004913                1             1  99.525640   \n",
       "1             23.867976   6.857392                2             2  57.671151   \n",
       "2             45.521355  31.618442                3             1  86.505216   \n",
       "3             15.759591  40.841293                1             3  95.412002   \n",
       "4             21.549028  48.150677                1             3  32.980361   \n",
       "...                 ...        ...              ...           ...        ...   \n",
       "4995           6.235790  11.982209                2             2  32.017780   \n",
       "4996          22.050854  43.910584                1             3  49.729389   \n",
       "4997          16.342209  17.543850                2             2  46.079741   \n",
       "4998          32.630619  41.057386                3             1  31.270325   \n",
       "4999          14.741548  15.114604                2             2  80.264044   \n",
       "\n",
       "          Height         TDEE  label  \n",
       "0     188.490363  2037.861846      1  \n",
       "1     153.756741  1430.794645      5  \n",
       "2     172.921975  1811.584473      3  \n",
       "3     100.791129  1441.913398      7  \n",
       "4     126.497713   973.302434      7  \n",
       "...          ...          ...    ...  \n",
       "4995  147.290562  1103.863029      5  \n",
       "4996  114.558121  1067.606768      7  \n",
       "4997  141.988434  1210.656433      5  \n",
       "4998  184.401221  1319.892368      3  \n",
       "4999  149.766016  1615.188438      5  \n",
       "\n",
       "[5000 rows x 8 columns]"
      ]
     },
     "execution_count": 35,
     "metadata": {},
     "output_type": "execute_result"
    }
   ],
   "source": [
    "df"
   ]
  },
  {
   "cell_type": "code",
   "execution_count": 36,
   "id": "071a1564-247c-4f95-a89a-2b1c8c050361",
   "metadata": {},
   "outputs": [
    {
     "name": "stdout",
     "output_type": "stream",
     "text": [
      "Gradient Boosting:\n",
      "Mean Squared Error: 0.723837132141304\n",
      "R-squared: 0.8670339976991515\n"
     ]
    }
   ],
   "source": [
    "from sklearn.ensemble import RandomForestClassifier\n",
    "from sklearn.svm import SVC\n",
    "from sklearn.model_selection import train_test_split\n",
    "from sklearn.metrics import accuracy_score, confusion_matrix, classification_report\n",
    "\n",
    "# Chia dữ liệu thành tập huấn luyện và tập kiểm tra (80% huấn luyện, 20% kiểm tra)\n",
    "X = df[['BMI', 'BodyFatPercentage', 'Weight', 'Height','TDEE']]\n",
    "y = df['label']  # Label là cột bạn muốn dự đoán\n",
    "\n",
    "X_train, X_test, y_train, y_test = train_test_split(X, y, test_size=0.2, random_state=42)\n",
    "from sklearn.ensemble import GradientBoostingRegressor\n",
    "from sklearn.metrics import mean_squared_error, r2_score\n",
    "\n",
    "# Chọn mô hình Gradient Boosting\n",
    "model_gb = GradientBoostingRegressor(n_estimators=100, random_state=42)\n",
    "\n",
    "# Huấn luyện mô hình\n",
    "model_gb.fit(X_train, y_train)\n",
    "\n",
    "# Dự đoán trên tập kiểm tra\n",
    "y_pred_gb = model_gb.predict(X_test)\n",
    "\n",
    "# Đánh giá mô hình\n",
    "mse_gb = mean_squared_error(y_test, y_pred_gb)\n",
    "r2_gb = r2_score(y_test, y_pred_gb)\n",
    "\n",
    "print(\"Gradient Boosting:\")\n",
    "print(f\"Mean Squared Error: {mse_gb}\")\n",
    "print(f\"R-squared: {r2_gb}\")\n",
    "\n",
    "\n"
   ]
  },
  {
   "cell_type": "code",
   "execution_count": 37,
   "id": "233a111e-7b3c-4fa1-8325-113acc50254f",
   "metadata": {},
   "outputs": [
    {
     "name": "stdout",
     "output_type": "stream",
     "text": [
      "Random Forest:\n",
      "Mean Squared Error: 0.7186488\n",
      "R-squared: 0.8679870736782704\n"
     ]
    }
   ],
   "source": [
    "from sklearn.ensemble import RandomForestRegressor\n",
    "from sklearn.metrics import mean_squared_error, r2_score\n",
    "\n",
    "# Chọn mô hình Random Forest\n",
    "model_rf = RandomForestRegressor(n_estimators=100, random_state=42)\n",
    "\n",
    "# Huấn luyện mô hình\n",
    "model_rf.fit(X_train, y_train)\n",
    "\n",
    "# Dự đoán trên tập kiểm tra\n",
    "y_pred_rf = model_rf.predict(X_test)\n",
    "\n",
    "# Đánh giá mô hình\n",
    "mse_rf = mean_squared_error(y_test, y_pred_rf)\n",
    "r2_rf = r2_score(y_test, y_pred_rf)\n",
    "\n",
    "print(\"Random Forest:\")\n",
    "print(f\"Mean Squared Error: {mse_rf}\")\n",
    "print(f\"R-squared: {r2_rf}\")"
   ]
  },
  {
   "cell_type": "code",
   "execution_count": 38,
   "id": "f522f495-a48e-4341-b6d9-b39eea8ce510",
   "metadata": {},
   "outputs": [
    {
     "name": "stdout",
     "output_type": "stream",
     "text": [
      "Accuracy: 0.317\n"
     ]
    }
   ],
   "source": [
    "from sklearn.ensemble import RandomForestClassifier\n",
    "from sklearn.metrics import accuracy_score\n",
    "\n",
    "# Tạo mô hình Random Forest Classifier với các hyperparameters bạn muốn\n",
    "model = RandomForestClassifier(n_estimators=100, random_state=42)\n",
    "\n",
    "# Huấn luyện mô hình trên tập huấn luyện\n",
    "model.fit(X_train, y_train)\n",
    "\n",
    "# Dự đoán kết quả trên tập kiểm tra\n",
    "y_pred = model.predict(X_test)\n",
    "\n",
    "# Đánh giá độ chính xác của mô hình trên tập kiểm tra\n",
    "accuracy = accuracy_score(y_test, y_pred)\n",
    "print(\"Accuracy:\", accuracy)\n"
   ]
  },
  {
   "cell_type": "code",
   "execution_count": 39,
   "id": "d18a356a-fac2-4e40-964b-3286c3223c27",
   "metadata": {},
   "outputs": [
    {
     "name": "stdout",
     "output_type": "stream",
     "text": [
      "Random Forest:\n",
      "Mean Squared Error: 0.6951042261293252\n",
      "R-squared: 0.8723121182559082\n"
     ]
    }
   ],
   "source": [
    "from sklearn.ensemble import RandomForestRegressor\n",
    "from sklearn.model_selection import GridSearchCV\n",
    "\n",
    "# Chọn mô hình Random Forest\n",
    "model_rf = RandomForestRegressor(random_state=42)\n",
    "\n",
    "# Định nghĩa các giá trị thử nghiệm cho các siêu tham số\n",
    "param_grid = {\n",
    "    'n_estimators': [100, 200, 300],  # Thử các số lượng cây\n",
    "    'max_depth': [None, 10, 20, 30],  # Thử các độ sâu\n",
    "    'min_samples_split': [2, 5, 10],  # Thử số mẫu tối thiểu để chia nút\n",
    "    'min_samples_leaf': [1, 2, 4],  # Thử số mẫu tối thiểu trong lá\n",
    "}\n",
    "\n",
    "# Sử dụng Grid Search để tìm bộ tham số tốt nhất\n",
    "grid_search = GridSearchCV(model_rf, param_grid, cv=5, scoring='neg_mean_squared_error')\n",
    "grid_search.fit(X_train, y_train)\n",
    "\n",
    "# Lấy ra bộ tham số tốt nhất\n",
    "best_params = grid_search.best_params_\n",
    "\n",
    "# Tạo mô hình mới với bộ tham số tốt nhất\n",
    "best_model_rf = RandomForestRegressor(random_state=42, **best_params)\n",
    "\n",
    "# Huấn luyện mô hình mới trên dữ liệu huấn luyện\n",
    "best_model_rf.fit(X_train, y_train)\n",
    "\n",
    "# Dự đoán trên tập kiểm tra\n",
    "y_pred_rf = best_model_rf.predict(X_test)\n",
    "\n",
    "# Đánh giá mô hình\n",
    "mse_rf = mean_squared_error(y_test, y_pred_rf)\n",
    "r2_rf = r2_score(y_test, y_pred_rf)\n",
    "\n",
    "print(\"Random Forest:\")\n",
    "print(f\"Mean Squared Error: {mse_rf}\")\n",
    "print(f\"R-squared: {r2_rf}\")\n"
   ]
  },
  {
   "cell_type": "code",
   "execution_count": 40,
   "id": "9d15bb5d-f3ee-4e8e-9785-fafb68ed78c6",
   "metadata": {},
   "outputs": [
    {
     "data": {
      "text/plain": [
       "{'max_depth': 10,\n",
       " 'min_samples_leaf': 1,\n",
       " 'min_samples_split': 10,\n",
       " 'n_estimators': 100}"
      ]
     },
     "execution_count": 40,
     "metadata": {},
     "output_type": "execute_result"
    }
   ],
   "source": [
    "best_params"
   ]
  },
  {
   "cell_type": "code",
   "execution_count": 41,
   "id": "b2dc1372-2b5b-4642-a873-54e02639df23",
   "metadata": {},
   "outputs": [],
   "source": [
    "import xgboost as xgb\n",
    "from sklearn.model_selection import train_test_split\n",
    "from sklearn.metrics import mean_squared_error, r2_score\n",
    "\n",
    "# Chia dữ liệu thành tập huấn luyện và tập kiểm tra\n",
    "X = df[['BMI', 'BodyFatPercentage', 'Weight', 'Height', 'TDEE']]\n",
    "y = df['label']\n",
    "X_train, X_test, y_train, y_test = train_test_split(X, y, test_size=0.2, random_state=42)\n"
   ]
  },
  {
   "cell_type": "code",
   "execution_count": 42,
   "id": "01fa82e2-1a04-4995-8d9d-ff1fa7ae5d0c",
   "metadata": {},
   "outputs": [
    {
     "data": {
      "text/html": [
       "<style>#sk-container-id-2 {color: black;}#sk-container-id-2 pre{padding: 0;}#sk-container-id-2 div.sk-toggleable {background-color: white;}#sk-container-id-2 label.sk-toggleable__label {cursor: pointer;display: block;width: 100%;margin-bottom: 0;padding: 0.3em;box-sizing: border-box;text-align: center;}#sk-container-id-2 label.sk-toggleable__label-arrow:before {content: \"▸\";float: left;margin-right: 0.25em;color: #696969;}#sk-container-id-2 label.sk-toggleable__label-arrow:hover:before {color: black;}#sk-container-id-2 div.sk-estimator:hover label.sk-toggleable__label-arrow:before {color: black;}#sk-container-id-2 div.sk-toggleable__content {max-height: 0;max-width: 0;overflow: hidden;text-align: left;background-color: #f0f8ff;}#sk-container-id-2 div.sk-toggleable__content pre {margin: 0.2em;color: black;border-radius: 0.25em;background-color: #f0f8ff;}#sk-container-id-2 input.sk-toggleable__control:checked~div.sk-toggleable__content {max-height: 200px;max-width: 100%;overflow: auto;}#sk-container-id-2 input.sk-toggleable__control:checked~label.sk-toggleable__label-arrow:before {content: \"▾\";}#sk-container-id-2 div.sk-estimator input.sk-toggleable__control:checked~label.sk-toggleable__label {background-color: #d4ebff;}#sk-container-id-2 div.sk-label input.sk-toggleable__control:checked~label.sk-toggleable__label {background-color: #d4ebff;}#sk-container-id-2 input.sk-hidden--visually {border: 0;clip: rect(1px 1px 1px 1px);clip: rect(1px, 1px, 1px, 1px);height: 1px;margin: -1px;overflow: hidden;padding: 0;position: absolute;width: 1px;}#sk-container-id-2 div.sk-estimator {font-family: monospace;background-color: #f0f8ff;border: 1px dotted black;border-radius: 0.25em;box-sizing: border-box;margin-bottom: 0.5em;}#sk-container-id-2 div.sk-estimator:hover {background-color: #d4ebff;}#sk-container-id-2 div.sk-parallel-item::after {content: \"\";width: 100%;border-bottom: 1px solid gray;flex-grow: 1;}#sk-container-id-2 div.sk-label:hover label.sk-toggleable__label {background-color: #d4ebff;}#sk-container-id-2 div.sk-serial::before {content: \"\";position: absolute;border-left: 1px solid gray;box-sizing: border-box;top: 0;bottom: 0;left: 50%;z-index: 0;}#sk-container-id-2 div.sk-serial {display: flex;flex-direction: column;align-items: center;background-color: white;padding-right: 0.2em;padding-left: 0.2em;position: relative;}#sk-container-id-2 div.sk-item {position: relative;z-index: 1;}#sk-container-id-2 div.sk-parallel {display: flex;align-items: stretch;justify-content: center;background-color: white;position: relative;}#sk-container-id-2 div.sk-item::before, #sk-container-id-2 div.sk-parallel-item::before {content: \"\";position: absolute;border-left: 1px solid gray;box-sizing: border-box;top: 0;bottom: 0;left: 50%;z-index: -1;}#sk-container-id-2 div.sk-parallel-item {display: flex;flex-direction: column;z-index: 1;position: relative;background-color: white;}#sk-container-id-2 div.sk-parallel-item:first-child::after {align-self: flex-end;width: 50%;}#sk-container-id-2 div.sk-parallel-item:last-child::after {align-self: flex-start;width: 50%;}#sk-container-id-2 div.sk-parallel-item:only-child::after {width: 0;}#sk-container-id-2 div.sk-dashed-wrapped {border: 1px dashed gray;margin: 0 0.4em 0.5em 0.4em;box-sizing: border-box;padding-bottom: 0.4em;background-color: white;}#sk-container-id-2 div.sk-label label {font-family: monospace;font-weight: bold;display: inline-block;line-height: 1.2em;}#sk-container-id-2 div.sk-label-container {text-align: center;}#sk-container-id-2 div.sk-container {/* jupyter's `normalize.less` sets `[hidden] { display: none; }` but bootstrap.min.css set `[hidden] { display: none !important; }` so we also need the `!important` here to be able to override the default hidden behavior on the sphinx rendered scikit-learn.org. See: https://github.com/scikit-learn/scikit-learn/issues/21755 */display: inline-block !important;position: relative;}#sk-container-id-2 div.sk-text-repr-fallback {display: none;}</style><div id=\"sk-container-id-2\" class=\"sk-top-container\"><div class=\"sk-text-repr-fallback\"><pre>XGBRegressor(base_score=None, booster=None, callbacks=None,\n",
       "             colsample_bylevel=None, colsample_bynode=None,\n",
       "             colsample_bytree=None, device=None, early_stopping_rounds=None,\n",
       "             enable_categorical=False, eval_metric=None, feature_types=None,\n",
       "             gamma=None, grow_policy=None, importance_type=None,\n",
       "             interaction_constraints=None, learning_rate=None, max_bin=None,\n",
       "             max_cat_threshold=None, max_cat_to_onehot=None,\n",
       "             max_delta_step=None, max_depth=None, max_leaves=None,\n",
       "             min_child_weight=None, missing=nan, monotone_constraints=None,\n",
       "             multi_strategy=None, n_estimators=100, n_jobs=None,\n",
       "             num_parallel_tree=None, random_state=42, ...)</pre><b>In a Jupyter environment, please rerun this cell to show the HTML representation or trust the notebook. <br />On GitHub, the HTML representation is unable to render, please try loading this page with nbviewer.org.</b></div><div class=\"sk-container\" hidden><div class=\"sk-item\"><div class=\"sk-estimator sk-toggleable\"><input class=\"sk-toggleable__control sk-hidden--visually\" id=\"sk-estimator-id-2\" type=\"checkbox\" checked><label for=\"sk-estimator-id-2\" class=\"sk-toggleable__label sk-toggleable__label-arrow\">XGBRegressor</label><div class=\"sk-toggleable__content\"><pre>XGBRegressor(base_score=None, booster=None, callbacks=None,\n",
       "             colsample_bylevel=None, colsample_bynode=None,\n",
       "             colsample_bytree=None, device=None, early_stopping_rounds=None,\n",
       "             enable_categorical=False, eval_metric=None, feature_types=None,\n",
       "             gamma=None, grow_policy=None, importance_type=None,\n",
       "             interaction_constraints=None, learning_rate=None, max_bin=None,\n",
       "             max_cat_threshold=None, max_cat_to_onehot=None,\n",
       "             max_delta_step=None, max_depth=None, max_leaves=None,\n",
       "             min_child_weight=None, missing=nan, monotone_constraints=None,\n",
       "             multi_strategy=None, n_estimators=100, n_jobs=None,\n",
       "             num_parallel_tree=None, random_state=42, ...)</pre></div></div></div></div></div>"
      ],
      "text/plain": [
       "XGBRegressor(base_score=None, booster=None, callbacks=None,\n",
       "             colsample_bylevel=None, colsample_bynode=None,\n",
       "             colsample_bytree=None, device=None, early_stopping_rounds=None,\n",
       "             enable_categorical=False, eval_metric=None, feature_types=None,\n",
       "             gamma=None, grow_policy=None, importance_type=None,\n",
       "             interaction_constraints=None, learning_rate=None, max_bin=None,\n",
       "             max_cat_threshold=None, max_cat_to_onehot=None,\n",
       "             max_delta_step=None, max_depth=None, max_leaves=None,\n",
       "             min_child_weight=None, missing=nan, monotone_constraints=None,\n",
       "             multi_strategy=None, n_estimators=100, n_jobs=None,\n",
       "             num_parallel_tree=None, random_state=42, ...)"
      ]
     },
     "execution_count": 42,
     "metadata": {},
     "output_type": "execute_result"
    }
   ],
   "source": [
    "# Chọn mô hình XGBoost và thiết lập các siêu tham số\n",
    "model_xgb = xgb.XGBRegressor(n_estimators=100, random_state=42)\n",
    "\n",
    "# Huấn luyện mô hình\n",
    "model_xgb.fit(X_train, y_train)\n"
   ]
  },
  {
   "cell_type": "code",
   "execution_count": 43,
   "id": "4bcf09dc-2bce-4cb2-9003-2ef8ce896093",
   "metadata": {},
   "outputs": [
    {
     "name": "stdout",
     "output_type": "stream",
     "text": [
      "XGBoost:\n",
      "Mean Squared Error: 0.9277036586391296\n",
      "R-squared: 0.8295845276074678\n"
     ]
    }
   ],
   "source": [
    "# Dự đoán trên tập kiểm tra\n",
    "y_pred_xgb = model_xgb.predict(X_test)\n",
    "\n",
    "# Đánh giá mô hình\n",
    "mse_xgb = mean_squared_error(y_test, y_pred_xgb)\n",
    "r2_xgb = r2_score(y_test, y_pred_xgb)\n",
    "\n",
    "print(\"XGBoost:\")\n",
    "print(f\"Mean Squared Error: {mse_xgb}\")\n",
    "print(f\"R-squared: {r2_xgb}\")\n"
   ]
  },
  {
   "cell_type": "code",
   "execution_count": 44,
   "id": "cb0e2af8-5ea7-4a76-a97b-bb8b3e385f69",
   "metadata": {},
   "outputs": [
    {
     "name": "stdout",
     "output_type": "stream",
     "text": [
      "Random Forest:\n",
      "Mean Squared Error: 0.6951042261293252\n",
      "R-squared: 0.8723121182559082\n"
     ]
    }
   ],
   "source": [
    "from sklearn.ensemble import RandomForestRegressor\n",
    "from sklearn.metrics import mean_squared_error, r2_score\n",
    "\n",
    "# Chọn mô hình Random Forest và sử dụng các tham số đã chỉ định\n",
    "model_rf = RandomForestRegressor(\n",
    "    n_estimators=100,\n",
    "    max_depth=10,\n",
    "    min_samples_split=10,\n",
    "    min_samples_leaf=1,\n",
    "    random_state=42\n",
    ")\n",
    "\n",
    "# Huấn luyện mô hình\n",
    "model_rf.fit(X_train, y_train)\n",
    "\n",
    "# Dự đoán trên tập kiểm tra\n",
    "y_pred_rf = model_rf.predict(X_test)\n",
    "\n",
    "# Đánh giá mô hình\n",
    "mse_rf = mean_squared_error(y_test, y_pred_rf)\n",
    "r2_rf = r2_score(y_test, y_pred_rf)\n",
    "\n",
    "print(\"Random Forest:\")\n",
    "print(f\"Mean Squared Error: {mse_rf}\")\n",
    "print(f\"R-squared: {r2_rf}\")\n"
   ]
  },
  {
   "cell_type": "code",
   "execution_count": null,
   "id": "216a8d14-fd33-4049-a74a-b31db5bbe95c",
   "metadata": {},
   "outputs": [],
   "source": []
  }
 ],
 "metadata": {
  "kernelspec": {
   "display_name": "Python 3 (ipykernel)",
   "language": "python",
   "name": "python3"
  },
  "language_info": {
   "codemirror_mode": {
    "name": "ipython",
    "version": 3
   },
   "file_extension": ".py",
   "mimetype": "text/x-python",
   "name": "python",
   "nbconvert_exporter": "python",
   "pygments_lexer": "ipython3",
   "version": "3.9.6"
  }
 },
 "nbformat": 4,
 "nbformat_minor": 5
}
